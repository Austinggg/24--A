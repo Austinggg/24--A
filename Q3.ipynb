{
 "cells": [
  {
   "cell_type": "markdown",
   "metadata": {},
   "source": [
    "# 问题三的单独求解\n",
    "暴力手算"
   ]
  },
  {
   "cell_type": "code",
   "execution_count": 1055,
   "metadata": {},
   "outputs": [],
   "source": [
    "# 导入包\n",
    "import numpy as np\n",
    "import pandas as pd\n",
    "import matplotlib.pyplot as plt\n",
    "import seaborn as sns\n",
    "import math \n",
    "from scipy.optimize import fsolve"
   ]
  },
  {
   "cell_type": "markdown",
   "metadata": {},
   "source": [
    "# 问题一"
   ]
  },
  {
   "cell_type": "markdown",
   "metadata": {},
   "source": [
    "## 基本功能函数"
   ]
  },
  {
   "cell_type": "markdown",
   "metadata": {},
   "source": [
    "### 计算向量的模"
   ]
  },
  {
   "cell_type": "code",
   "execution_count": 1056,
   "metadata": {},
   "outputs": [
    {
     "name": "stdout",
     "output_type": "stream",
     "text": [
      "向量的模为: 5.0\n"
     ]
    }
   ],
   "source": [
    "# 定义向量\n",
    "v = np.array([3, 4])\n",
    "\n",
    "# 计算向量的模\n",
    "magnitude = np.linalg.norm(v)\n",
    "\n",
    "print(f\"向量的模为: {magnitude}\")"
   ]
  },
  {
   "cell_type": "markdown",
   "metadata": {},
   "source": [
    "### 单位化向量"
   ]
  },
  {
   "cell_type": "code",
   "execution_count": 1057,
   "metadata": {},
   "outputs": [],
   "source": [
    "def compute_unit_vector(vx, vy):\n",
    "    \"\"\"\n",
    "    计算单位向量\n",
    "    输入: vx -  x 分量\n",
    "          vy -  y 分量\n",
    "    输出: 单位向量 (vx_n, vy_n)\n",
    "    \"\"\"\n",
    "    # 计算速度的大小\n",
    "    magnitude = math.sqrt(vx**2 + vy**2)\n",
    "    \n",
    "    # 计算单位向量\n",
    "    vx_n = vx / magnitude\n",
    "    vy_n = vy / magnitude\n",
    "    \n",
    "    return (vx_n, vy_n)"
   ]
  },
  {
   "cell_type": "markdown",
   "metadata": {},
   "source": [
    "### 由 $\\theta$ 求解极径r的值\n",
    "螺线方程为： $r=8.8 - \\frac{0.55}{2\\pi}\\theta $"
   ]
  },
  {
   "cell_type": "code",
   "execution_count": 1058,
   "metadata": {},
   "outputs": [],
   "source": [
    "def compute_radius(θ):\n",
    "    \"\"\"\n",
    "    计算螺线方程 r = 8.8 + (0.55 / (2 * pi)) * theta 的极径 r\n",
    "    输入: theta - 角度（弧度制）\n",
    "    输出: 对应的极径 r\n",
    "    \"\"\"\n",
    "    global p\n",
    "    # 螺线方程\n",
    "    r = 8.8 + ( p / (2 * math.pi)) * θ\n",
    "    return r"
   ]
  },
  {
   "cell_type": "markdown",
   "metadata": {},
   "source": [
    "### 由 $\\theta$ 计算点坐标"
   ]
  },
  {
   "cell_type": "code",
   "execution_count": 1059,
   "metadata": {},
   "outputs": [],
   "source": [
    "def compute_coordinates(θ):\n",
    "    \"\"\"\n",
    "    计算点的坐标 (r cos(θ), r sin(θ))\n",
    "    输入: theta - 角度（弧度制）\n",
    "    输出: 对应的坐标 (x, y)\n",
    "    \"\"\"\n",
    "    # 计算极径\n",
    "    r = compute_radius(θ)\n",
    "    \n",
    "    # 计算坐标\n",
    "    x = r*math.cos(θ)\n",
    "    y = r*math.sin(θ)\n",
    "    return (x, y)\n"
   ]
  },
  {
   "cell_type": "markdown",
   "metadata": {},
   "source": [
    "### 求解龙头前把手的位置\n",
    "$\\overrightarrow {v_1}=(r_1 cos \\theta_1, -r_1 sin \\theta_1)$"
   ]
  },
  {
   "cell_type": "code",
   "execution_count": 1060,
   "metadata": {},
   "outputs": [],
   "source": [
    "def compute_hand_position(θ):\n",
    "    \"\"\"\n",
    "    计算在时间 t 时刻龙头前把手的位置\n",
    "    输入: theta - 角度（弧度制）\n",
    "    输出: 对应的坐标 (x, y)\n",
    "    \"\"\"\n",
    "    \n",
    "    return compute_coordinates(θ)"
   ]
  },
  {
   "cell_type": "markdown",
   "metadata": {},
   "source": [
    "##  求解位置\n"
   ]
  },
  {
   "cell_type": "markdown",
   "metadata": {},
   "source": [
    "### 求出龙头在300s内的所有 $\\theta$ 值\n",
    "从0秒到300秒，共301个时间点"
   ]
  },
  {
   "cell_type": "markdown",
   "metadata": {},
   "source": [
    "#### 计算函数"
   ]
  },
  {
   "cell_type": "code",
   "execution_count": 1061,
   "metadata": {},
   "outputs": [],
   "source": [
    "from scipy.optimize import fsolve\n",
    "\n",
    "def f(x):\n",
    "    \"\"\"\n",
    "    计算函数 f(x)\n",
    "    输入: x - 自变量\n",
    "    输出: f(x) 的值\n",
    "    \"\"\"\n",
    "    return 0.5 * x * np.sqrt(x**2 + 1) + 0.5 * np.log(np.abs(x + np.sqrt(x**2 + 1)))\n",
    "\n",
    "def g(x, t):\n",
    "    \"\"\"\n",
    "    计算函数 g(x) - t\n",
    "    输入: x - 自变量\n",
    "           t - 目标值\n",
    "    输出: g(x) - t 的值\n",
    "    \"\"\"\n",
    "    global p\n",
    "    term1 = f(x + 32 * np.pi)\n",
    "    term2 = f(32 * np.pi)\n",
    "    return ( p / (2 * np.pi)) * (term2 - term1) - t\n",
    "\n",
    "def solve_θ_of_dragonhead(t_value):\n",
    "    \"\"\"\n",
    "    解方程 g(x) = t 的 x 值\n",
    "    输入: t_value - 目标值 t\n",
    "    输出: 对应的 x 值\n",
    "    \"\"\"\n",
    "    # 初始猜测值为0\n",
    "    initial_guess = np.radians(0)\n",
    "\n",
    "    try:\n",
    "        # 使用 fsolve 求解 g(x) - t = 0 的方程\n",
    "        x_value = fsolve(g, x0=initial_guess, args=(t_value))\n",
    "        return x_value[0]\n",
    "    except Exception as e:\n",
    "        print(f\"Failed to solve: {e}\")\n",
    "        return None\n"
   ]
  },
  {
   "cell_type": "markdown",
   "metadata": {},
   "source": [
    "#### 计算并存储龙头的 θ 值"
   ]
  },
  {
   "cell_type": "code",
   "execution_count": 1062,
   "metadata": {},
   "outputs": [],
   "source": [
    "# 初始化时间数组\n",
    "time_array = np.arange(301)  # 从 0 到 300 的整数数组\n",
    "\n",
    "# 计算每个时间点的角度值（弧度制）\n",
    "theta_head_value = np.array([solve_θ_of_dragonhead(t) for t in time_array])"
   ]
  },
  {
   "cell_type": "code",
   "execution_count": 1063,
   "metadata": {},
   "outputs": [
    {
     "name": "stdout",
     "output_type": "stream",
     "text": [
      "前几个 θ 值 (弧度制):\n",
      "[  0.          -0.15778503  -0.31581847  -0.47410148  -0.63263526\n",
      "  -0.79142099  -0.9504599   -1.10975318  -1.26930207  -1.42910779\n",
      "  -1.5891716   -1.74949475  -1.9100785   -2.07092413  -2.23203292\n",
      "  -2.39340617  -2.55504518  -2.71695128  -2.87912579  -3.04157004\n",
      "  -3.2042854   -3.36727322  -3.53053488  -3.69407175  -3.85788525\n",
      "  -4.02197677  -4.18634773  -4.35099957  -4.51593374  -4.68115169\n",
      "  -4.84665488  -5.01244481  -5.17852297  -5.34489086  -5.51155001\n",
      "  -5.67850195  -5.84574824  -6.01329043  -6.1811301   -6.34926884\n",
      "  -6.51770825  -6.68644996  -6.8554956   -7.02484681  -7.19450525\n",
      "  -7.36447262  -7.53475059  -7.70534088  -7.87624522  -8.04746534\n",
      "  -8.219003    -8.39085997  -8.56303805  -8.73553904  -8.90836477\n",
      "  -9.08151707  -9.2549978   -9.42880884  -9.60295209  -9.77742945\n",
      "  -9.95224286 -10.12739426 -10.30288562 -10.47871894 -10.65489621\n",
      " -10.83141946 -11.00829074 -11.18551212 -11.36308568 -11.54101354\n",
      " -11.71929781 -11.89794065 -12.07694424 -12.25631076 -12.43604244\n",
      " -12.61614151 -12.79661023 -12.97745089 -13.15866581 -13.3402573\n",
      " -13.52222773 -13.70457949 -13.88731497 -14.07043662 -14.25394689\n",
      " -14.43784826 -14.62214324 -14.80683438 -14.99192424 -15.17741541\n",
      " -15.36331052 -15.54961221 -15.73632317 -15.9234461  -16.11098374\n",
      " -16.29893886 -16.48731427 -16.67611279 -16.86533729 -17.05499066\n",
      " -17.24507583 -17.43559577 -17.62655348 -17.81795198 -18.00979434\n",
      " -18.20208366 -18.39482309 -18.58801579 -18.78166498 -18.97577391\n",
      " -19.17034588 -19.3653842  -19.56089225 -19.75687345 -19.95333123\n",
      " -20.15026911 -20.3476906  -20.54559929 -20.74399881 -20.94289283\n",
      " -21.14228507 -21.34217927 -21.54257926 -21.7434889  -21.94491209\n",
      " -22.14685279 -22.34931501 -22.55230281 -22.7558203  -22.95987166\n",
      " -23.1644611  -23.36959291 -23.57527142 -23.78150103 -23.98828619\n",
      " -24.19563141 -24.40354127 -24.61202041 -24.82107352 -25.03070538\n",
      " -25.24092082 -25.45172473 -25.6631221  -25.87511795 -26.0877174\n",
      " -26.30092564 -26.51474793 -26.72918959 -26.94425605 -27.1599528\n",
      " -27.37628541 -27.59325953 -27.81088091 -28.02915538 -28.24808885\n",
      " -28.46768733 -28.6879569  -28.90890377 -29.13053422 -29.35285462\n",
      " -29.57587148 -29.79959136 -30.02402096 -30.24916709 -30.47503664\n",
      " -30.70163663 -30.9289742  -31.15705659 -31.38589117 -31.61548544\n",
      " -31.84584701 -32.07698363 -32.30890316 -32.54161362 -32.77512316\n",
      " -33.00944007 -33.24457277 -33.48052984 -33.71732003 -33.9549522\n",
      " -34.19343542 -34.43277889 -34.67299198 -34.91408425 -35.15606541\n",
      " -35.39894538 -35.64273423 -35.88744226 -36.13307993 -36.37965792\n",
      " -36.62718711 -36.8756786  -37.1251437  -37.37559393 -37.62704106\n",
      " -37.8794971  -38.13297428 -38.38748509 -38.64304228 -38.89965887\n",
      " -39.15734813 -39.41612364 -39.67599924 -39.93698908 -40.19910762\n",
      " -40.46236963 -40.7267902  -40.99238476 -41.2591691  -41.52715933\n",
      " -41.79637197 -42.06682389 -42.33853237 -42.61151508 -42.88579011\n",
      " -43.161376   -43.43829172 -43.7165567  -43.99619087 -44.27721462\n",
      " -44.55964889 -44.84351513 -45.12883533 -45.41563207 -45.70392851\n",
      " -45.99374842 -46.28511621 -46.57805695 -46.87259638 -47.16876096\n",
      " -47.4665779  -47.76607516 -48.0672815  -48.37022651 -48.67494066\n",
      " -48.9814553  -49.28980272 -49.6000162  -49.91213002 -50.22617955\n",
      " -50.54220123 -50.8602327  -51.18031279 -51.5024816  -51.82678055\n",
      " -52.15325247 -52.48194161 -52.81289377 -53.14615634 -53.48177838\n",
      " -53.81981072 -54.16030605 -54.50331899 -54.84890621 -55.19712655\n",
      " -55.54804112 -55.90171343 -56.25820953 -56.61759814 -56.97995083\n",
      " -57.34534214 -57.71384981 -58.08555496 -58.46054228 -58.83890025\n",
      " -59.22072142 -59.60610266 -59.9951454  -60.38795603 -60.78464617\n",
      " -61.18533305 -61.59013994 -61.99919659 -62.41263968 -62.8306134\n",
      " -63.25326999 -63.68077043 -64.11328514 -64.55099476 -64.99409105\n",
      " -65.44277787 -65.89727226 -66.35780567 -66.82462535 -67.2979959\n",
      " -67.77820101 -68.26554544 -68.76035732 -69.26299069 -69.77382846\n",
      " -70.29328588 -70.82181439 -71.35990631 -71.90810014 -72.46698688\n",
      " -73.0372175  -73.6195118  -74.21466908 -74.82358095 -75.44724704\n",
      " -76.08679421]\n"
     ]
    }
   ],
   "source": [
    "# 输出300s 内的所有龙的 θ 值\n",
    "print(\"前几个 θ 值 (弧度制):\")\n",
    "print(theta_head_value)  \n"
   ]
  },
  {
   "cell_type": "markdown",
   "metadata": {},
   "source": [
    "### 求出对应于每个 $\\theta$ 的 所对应的所有龙身的 $\\theta$ 值"
   ]
  },
  {
   "cell_type": "markdown",
   "metadata": {},
   "source": [
    "#### 计算函数"
   ]
  },
  {
   "cell_type": "code",
   "execution_count": 1064,
   "metadata": {},
   "outputs": [],
   "source": [
    "from scipy.optimize import fsolve\n",
    "\n",
    "def g_function(θ2, θ1, b):\n",
    "    \"\"\"\n",
    "    计算方程 g(θ2) - b^2 的值，用于求解 θ2\n",
    "    输入: theta2 - 待求解的角度 θ2（弧度制）\n",
    "           theta1 - 已知角度 θ1（弧度制）\n",
    "           b - 目标值 b\n",
    "    输出: g(θ2) - a^2 的值\n",
    "    \"\"\"\n",
    "    r1 = compute_radius(θ1)\n",
    "    r2 = compute_radius(θ2)\n",
    "    # g(θ2) 的表达式\n",
    "    g_θ2 = r2**2 - 2 * r1 * r2 * np.cos(θ2 - θ1) + r1**2\n",
    "    return g_θ2 - b**2\n",
    "\n",
    "def compute_theta_next(θ1, b):\n",
    "    \"\"\"\n",
    "    使用数值方法计算 θ2，使得 g(θ2) = b^2 且 θ2 - θ1 ∈ (0, 2π)\n",
    "    输入: theta1 - 已知角度 θ1（弧度制）\n",
    "           b - 目标值 b\n",
    "    输出: 满足条件的 θ2 的值\n",
    "    \"\"\"\n",
    "    # 定义多个初始猜测值，用于 fsolve 寻找不同的解\n",
    "    initial_guesses = [ θ1+0.2, θ1+0.4, θ1+0.7, θ1+0.9]  \n",
    "    solutions = []\n",
    "\n",
    "    # 对每个初始猜测值进行求解\n",
    "    for guess in initial_guesses:\n",
    "        θ2_solution = fsolve(g_function, guess, args=(θ1, b))\n",
    "        θ2 = θ2_solution[0]\n",
    "\n",
    "        # 检查解是否满足  θ2 - θ1 ∈ (-2π, 0)\n",
    "        if  0 < (θ2 - θ1) < 2*np.pi:\n",
    "            solutions.append(θ2)\n",
    "\n",
    "    # 返回满足条件的最小解\n",
    "    if solutions:\n",
    "        unique_solutions = np.unique(solutions)  # 去重\n",
    "        return min(solutions)\n",
    "    else:\n",
    "        return None  # 如果没有满足条件的解，返回 None"
   ]
  },
  {
   "cell_type": "markdown",
   "metadata": {},
   "source": [
    "示例调用"
   ]
  },
  {
   "cell_type": "markdown",
   "metadata": {},
   "source": [
    "#### 计算每个时间点的所有龙身的 θ 值"
   ]
  },
  {
   "cell_type": "code",
   "execution_count": 1065,
   "metadata": {},
   "outputs": [],
   "source": [
    "length_of_dragon_head = 2.86 # 龙头的长度 286cm=2.86m\n",
    "distance_of_dragon_body= 1.65 # 龙身上两个孔的距离 165cm=1.65m\n",
    "\n",
    "# 创建二维数组来存储每个时间点的所有龙身的 θ 值\n",
    "theta_body_values_of_each_time = np.empty((301, 223))  # 301 行，222 列；301个时间点，221个龙身，1个龙尾\n",
    "\n",
    "# 计算每个时间点的所有龙身的 θ 值\n",
    "for t in range(301):\n",
    "    temp =  theta_head_value[t] # 当前时间内点的龙头对应的θ值\n",
    "    for i in range(223):\n",
    "        if i == 0:\n",
    "            theta_body_values_of_each_time[t, i] = compute_theta_next(temp, length_of_dragon_head) # 当前时间点的龙身每个点的θ值\n",
    "            temp = theta_body_values_of_each_time[t, i] # 更新当前时间点的龙身对应的θ值\n",
    "        else:\n",
    "            theta_body_values_of_each_time[t, i] = compute_theta_next(temp, distance_of_dragon_body) # 当前时间点的龙身每个点的θ值\n",
    "            temp = theta_body_values_of_each_time[t, i] # 更新当前时间点的龙身对应的θ值\n",
    "            "
   ]
  },
  {
   "cell_type": "code",
   "execution_count": 1066,
   "metadata": {},
   "outputs": [
    {
     "name": "stdout",
     "output_type": "stream",
     "text": [
      "二维数组已保存到 ./Q1/theta_body_values_Q1.csv 文件中。\n"
     ]
    }
   ],
   "source": [
    "# 定义保存数组到 CSV 文件的函数\n",
    "def save_array_to_csv(array, filename):\n",
    "    \"\"\"\n",
    "    将二维数组保存到 CSV 文件\n",
    "    输入:\n",
    "        array - 要保存的数组\n",
    "        filename - 保存的文件名\n",
    "    \"\"\"\n",
    "    # 使用 numpy.savetxt 将数组保存到 CSV 文件中\n",
    "    np.savetxt(filename, array, fmt='%.6f', delimiter=',')  # fmt 控制浮点数精度，delimiter 控制分隔符为逗号\n",
    "\n",
    "# 调用函数将数组保存到 CSV 文件中\n",
    "save_array_to_csv(theta_body_values_of_each_time, './Q1/theta_body_values_Q1.csv')\n",
    "\n",
    "print(\"二维数组已保存到 ./Q1/theta_body_values_Q1.csv 文件中。\")\n"
   ]
  },
  {
   "cell_type": "code",
   "execution_count": 1067,
   "metadata": {},
   "outputs": [],
   "source": [
    "# 将所有时刻的所有点的位置信息存储到同一变量中，301行，223列，第一列为龙头，其余为龙身\n",
    "theta_values_of_each_time = np.hstack((theta_head_value.reshape(-1, 1), theta_body_values_of_each_time))"
   ]
  },
  {
   "cell_type": "markdown",
   "metadata": {},
   "source": [
    "## 求解速度"
   ]
  },
  {
   "cell_type": "markdown",
   "metadata": {},
   "source": [
    "### 计算点的速度"
   ]
  },
  {
   "cell_type": "code",
   "execution_count": 1068,
   "metadata": {},
   "outputs": [],
   "source": [
    "def compute_radius_derivative(θ):\n",
    "    \"\"\"\n",
    "    计算 r(θ) = 8.8 - (0.55 / (2π)) * θ 的导数 \n",
    "    dr/dθ= -0.55 / (2π)\n",
    "    输出: 导数表达式的值\n",
    "    \"\"\"\n",
    "    global p\n",
    "    # 定义 r(theta) 的方程\n",
    "    dr =   (p / (2 * np.pi)) \n",
    "    \n",
    "    return dr"
   ]
  },
  {
   "cell_type": "code",
   "execution_count": 1069,
   "metadata": {},
   "outputs": [],
   "source": [
    "def compute_velocity(θ):\n",
    "    \"\"\"\n",
    "    计算点的速度\n",
    "    \"\"\"\n",
    "    # 计算r的值\n",
    "    r = compute_radius(θ)\n",
    "    # 计算r的导数值\n",
    "    dr = compute_radius_derivative(θ)\n",
    "\n",
    "    # 计算点的速度\n",
    "    vx = - r * np.sin(θ) + dr * np.cos(θ)\n",
    "    vy =   r * np.cos(θ) + dr * np.sin(θ)\n",
    "    \n",
    "    return (vx, vy)"
   ]
  },
  {
   "cell_type": "markdown",
   "metadata": {},
   "source": [
    "### 计算速度的单位方向向量\n",
    "$v_n$ 表示速度的单位向量\n",
    "$v_n =({v_x}_n,{v_y}_n)$"
   ]
  },
  {
   "cell_type": "markdown",
   "metadata": {},
   "source": [
    "### 板凳的方向向量\n",
    "$\\vec{l}=(r_{n+1}\\cos{\\theta_{n+1}}-r_n\\cos{\\theta_n},r_{n+1}\\sin{\\theta_{n+1}}-r_n\\sin(\\theta_n))=(\\cos{\\alpha_n},sin{\\alpha_n})$"
   ]
  },
  {
   "cell_type": "code",
   "execution_count": 1070,
   "metadata": {},
   "outputs": [],
   "source": [
    "def compute_bench_direction_vector(θ_n, θ_n1):\n",
    "    \"\"\"\n",
    "    计算板凳的方向向量\n",
    "    输入: \n",
    "        r_n, theta_n - 当前点的极径和角度（弧度制）\n",
    "        r_n1, theta_n1 - 下一个点的极径和角度（弧度制）\n",
    "    输出: \n",
    "        向量 (lx, ly) \n",
    "    \"\"\"\n",
    "    # r_n 和 r_n1\n",
    "    r_n = compute_radius(θ_n)\n",
    "    r_n1 = compute_radius(θ_n1)\n",
    "\n",
    "    # 计算方向向量的 x 和 y 分量\n",
    "    lx = r_n * math.cos(θ_n) - r_n1 * math.cos(θ_n1) \n",
    "    ly = r_n * math.sin(θ_n) - r_n1 * math.sin(θ_n1)  \n",
    "    \n",
    "    return lx, ly\n",
    "\n"
   ]
  },
  {
   "cell_type": "code",
   "execution_count": 1071,
   "metadata": {},
   "outputs": [
    {
     "name": "stdout",
     "output_type": "stream",
     "text": [
      "板凳的方向向量为: (1.392054443691995, -1.8410601487827458)\n",
      "板凳的方向单位向量为: (0.6031174697777792, -0.7976523789526672)\n"
     ]
    }
   ],
   "source": [
    "# 示例调用\n",
    "theta_n = math.radians(30)  # 当前点的角度\n",
    "theta_n1 = math.radians(45) # 下一个点的角度\n",
    "\n",
    "vector = compute_bench_direction_vector(theta_n, theta_n1)\n",
    "print(f\"板凳的方向向量为: {vector}\")\n",
    "\n",
    "\n",
    "unit_vector_l = compute_unit_vector(*vector)\n",
    "print(f\"板凳的方向单位向量为: {unit_vector_l}\")"
   ]
  },
  {
   "cell_type": "markdown",
   "metadata": {},
   "source": [
    "### 计算并存储t时刻龙头的前把手的速度的大小\n"
   ]
  },
  {
   "cell_type": "code",
   "execution_count": 1072,
   "metadata": {},
   "outputs": [],
   "source": [
    "#  speed_of_head 表示每个时刻的龙头的速度大小\n",
    "speed_of_head= 1"
   ]
  },
  {
   "cell_type": "markdown",
   "metadata": {},
   "source": [
    "### 计算并存储t时刻龙头的所有前把手的速度的大小\n",
    "$u_n$ 表示速度的大小\n",
    "$u_{n+1} = \\frac{\\vec{v_n}\\cdot \\vec l_n}{\\overrightarrow{v_{n+1}} \\cdot \\vec l_n} \\cdot u_n$"
   ]
  },
  {
   "cell_type": "markdown",
   "metadata": {},
   "source": [
    "#### 计算函数"
   ]
  },
  {
   "cell_type": "code",
   "execution_count": 1073,
   "metadata": {},
   "outputs": [],
   "source": [
    "def compute_velocity_next(θ_n, θ_n1, u_n):\n",
    "    \"\"\"\n",
    "    计算速度大小 u_{n+1}\n",
    "    \n",
    "    参数：\n",
    "    u_n: 当前点速度的大小\n",
    "    v_n: 当前点的速度方向向量\n",
    "    v_n1: 下一点的速度方向向量\n",
    "    l: 参考方向的单位向量\n",
    "    \n",
    "    返回：\n",
    "    u_{n+1}: 下一点的速度大小\n",
    "    \"\"\"\n",
    "\n",
    "    # 计算速度方向向量\n",
    "    v_n = compute_unit_vector(*compute_velocity(θ_n))\n",
    "    v_n1 = compute_unit_vector(*compute_velocity(θ_n1))\n",
    "\n",
    "    # 计算板凳的方向向量\n",
    "    l_n_x, l_n_y = compute_bench_direction_vector(θ_n, θ_n1)\n",
    "    l_n = np.array([l_n_x, l_n_y])\n",
    "    \n",
    "    # 计算点乘\n",
    "    numerator = np.dot(v_n, l_n) # 计算分子\n",
    "    denominator = np.dot(v_n1, l_n)   # 计算分母\n",
    "    \n",
    "    # 确保分母不为零\n",
    "    if denominator == 0:\n",
    "        raise ValueError(\"Denominator is zero, cannot divide.\")\n",
    "    \n",
    "    # 更新速度大小\n",
    "    u_n1 = (numerator / denominator) * u_n\n",
    "\n",
    "    return u_n1\n"
   ]
  },
  {
   "cell_type": "code",
   "execution_count": 1074,
   "metadata": {},
   "outputs": [],
   "source": [
    "# 建立一个空的数组来存储每个时间点龙身每个点的速度\n",
    "velocity_body_values_of_each_time = np.empty((301, 224))  # 301 行，223 列；301个时间点，一个龙头，221个龙身，1个龙尾，最后一列为龙尾后把手\n",
    "\n",
    "for t in range(301):\n",
    "    temp = speed_of_head # 计算当前时间点的龙头速度大小\n",
    "    velocity_body_values_of_each_time[t, 0] = temp # u0 存放龙头的速度大小\n",
    "    for i in range(0,223):\n",
    "        velocity_body_values_of_each_time[t, i+1] = compute_velocity_next(theta_values_of_each_time[t,i], theta_values_of_each_time[t,i+1], temp)\n",
    "        temp = velocity_body_values_of_each_time[t, i+1]"
   ]
  },
  {
   "cell_type": "code",
   "execution_count": 1075,
   "metadata": {},
   "outputs": [
    {
     "name": "stdout",
     "output_type": "stream",
     "text": [
      "速度矩阵已成功保存到 ./Q1/velocity_body_values.txt\n"
     ]
    }
   ],
   "source": [
    "# 将矩阵保存到 txt 文件中\n",
    "output_file_path = \"./Q1/velocity_body_values.txt\"  # 文件路径，可以根据需要修改\n",
    "\n",
    "# 保存矩阵到 txt 文件，格式化为小数点后两位\n",
    "np.savetxt(output_file_path, velocity_body_values_of_each_time, fmt='%.6f', delimiter=',', header='Velocity values for each time step')\n",
    "\n",
    "print(f\"速度矩阵已成功保存到 {output_file_path}\")"
   ]
  },
  {
   "cell_type": "markdown",
   "metadata": {},
   "source": [
    "## 输出结果整理\n"
   ]
  },
  {
   "cell_type": "markdown",
   "metadata": {},
   "source": [
    "### 位置信息"
   ]
  },
  {
   "cell_type": "code",
   "execution_count": 1076,
   "metadata": {},
   "outputs": [
    {
     "name": "stdout",
     "output_type": "stream",
     "text": [
      "x 和 y 坐标以及时间戳已成功保存到 './Q1/dragon_coordinates_Q1.csv'\n"
     ]
    }
   ],
   "source": [
    "# 将所有时刻的所有点的位置信息存储到同一变量中，301行，223列，第一列为龙头，其余为龙身, 最后一列为龙尾后把手\n",
    "theta_values_of_each_time = np.hstack((theta_head_value.reshape(-1, 1), theta_body_values_of_each_time))\n",
    "\n",
    "# 计算每个点的 r 值\n",
    "r_values = np.vectorize(compute_radius)(theta_values_of_each_time)\n",
    "\n",
    "# 计算所有点的 x 和 y 坐标\n",
    "x_values = r_values * np.cos(theta_values_of_each_time)\n",
    "y_values = r_values * np.sin(theta_values_of_each_time)\n",
    "\n",
    "# 创建多层列标签，分别表示 x 和 y 坐标\n",
    "column_labels_x = [f'Point_{i}_x' for i in range(224)]\n",
    "column_labels_y = [f'Point_{i}_y' for i in range(224)]\n",
    "column_labels = column_labels_x + column_labels_y\n",
    "\n",
    "# 合并 x 和 y 数据\n",
    "combined_values = np.hstack((x_values, y_values))\n",
    "\n",
    "# 创建 timestamp 列，从 0 到 300，并转换为二维列向量\n",
    "timestamps = np.arange(301).reshape(-1, 1)\n",
    "\n",
    "# 将 timestamp 列添加到坐标数据最左侧\n",
    "combined_values_with_timestamp = np.hstack((timestamps, combined_values))\n",
    "\n",
    "# 更新列标签，添加 'timestamp' 列\n",
    "column_labels = ['timestamp'] + column_labels\n",
    "\n",
    "# 创建 DataFrame\n",
    "df_coordinates = pd.DataFrame(combined_values_with_timestamp, columns=column_labels)\n",
    "\n",
    "# 保存到 CSV 文件\n",
    "df_coordinates.to_csv('./Q1/dragon_coordinates_Q1.csv', index=False)\n",
    "\n",
    "print(\"x 和 y 坐标以及时间戳已成功保存到 './Q1/dragon_coordinates_Q1.csv'\")\n"
   ]
  },
  {
   "cell_type": "markdown",
   "metadata": {},
   "source": [
    "### 速度信息"
   ]
  },
  {
   "cell_type": "code",
   "execution_count": 1077,
   "metadata": {},
   "outputs": [
    {
     "name": "stdout",
     "output_type": "stream",
     "text": [
      "速度信息已成功保存到 './Q1/dragon_velocity_Q1.csv'\n"
     ]
    }
   ],
   "source": [
    "# 创建列标签\n",
    "column_labels_velocity = [f'Point_{i}_v' for i in range(224)] \n",
    "\n",
    "# 创建 timestamp 列\n",
    "timestamps = np.arange(301)  # 从 0 到 300\n",
    "\n",
    "# 将 timestamp 列添加到速度数据中\n",
    "velocity_with_timestamp = np.column_stack((timestamps, velocity_body_values_of_each_time))\n",
    "\n",
    "\n",
    "# 创建 DataFrame\n",
    "df_velocity = pd.DataFrame(velocity_with_timestamp, columns=['timestamp'] + column_labels_velocity)\n",
    "\n",
    "# 保存到 CSV 文件\n",
    "df_velocity.to_csv('./Q1/dragon_velocity_Q1.csv', index=False)\n",
    "\n",
    "print(\"速度信息已成功保存到 './Q1/dragon_velocity_Q1.csv'\")\n"
   ]
  },
  {
   "cell_type": "markdown",
   "metadata": {},
   "source": [
    "# 问题二"
   ]
  },
  {
   "cell_type": "markdown",
   "metadata": {},
   "source": [
    "### 基本函数"
   ]
  },
  {
   "cell_type": "markdown",
   "metadata": {},
   "source": [
    "#### 计算垂直于板凳的方向向量的单位向量 $\\vec h_n$"
   ]
  },
  {
   "cell_type": "code",
   "execution_count": 1078,
   "metadata": {},
   "outputs": [],
   "source": [
    "def compute_perpendicular_unit_vector(l_n):\n",
    "    \"\"\"\n",
    "    计算垂直于已知向量 l_n 的单位向量 h_n\n",
    "    输入:\n",
    "        l_n - 已知的向量（二维或三维）\n",
    "    输出:\n",
    "        h_n - 垂直于 l_n 的单位向量\n",
    "    \"\"\"\n",
    "    # 将输入转换为 numpy 数组\n",
    "    l_n = np.array(l_n)\n",
    "\n",
    "    # 交换分量并改变符号，得到一个垂直的向量\n",
    "    h_n = np.array([-l_n[1], l_n[0]])\n",
    "\n",
    "    # 归一化\n",
    "    h_n = h_n / np.linalg.norm(h_n)\n",
    "    \n",
    "    return h_n"
   ]
  },
  {
   "cell_type": "markdown",
   "metadata": {},
   "source": [
    "#### 计算初始点的四个顶点坐标"
   ]
  },
  {
   "cell_type": "code",
   "execution_count": 1079,
   "metadata": {},
   "outputs": [],
   "source": [
    "def compute_head_vertices(θ,θ1):\n",
    "    \"\"\"\n",
    "    计算龙头的四个顶点坐标\n",
    "    输入:\n",
    "        θ - 龙头的前把手的位置\n",
    "        θ1 - 第一块龙身的前把手的位置\n",
    "    输出:\n",
    "        vertices_0 - 初始四个顶点的坐标列表\n",
    "        l0 - 龙头的方向向量\n",
    "        h0 - 垂直于 l0 的单位向量\n",
    "    \"\"\"\n",
    "    # 计算龙头位置的极径\n",
    "    r = compute_radius(θ)\n",
    "\n",
    "    # 计算龙头的坐标\n",
    "    x0 = r * np.cos(θ)\n",
    "    y0 = r * np.sin(θ)\n",
    "\n",
    "    # 计算垂直于 龙头的方向向量, θ 为龙头的前把手的位置，θ1 为第一块龙身的前把手的位置\n",
    "    l_0_x, l_0_y= compute_bench_direction_vector(θ, θ1)\n",
    "    l0 = np.array(compute_unit_vector(l_0_x, l_0_y))\n",
    "\n",
    "    # 计算垂直于 l0 的单位向量 h0\n",
    "    h0 = compute_perpendicular_unit_vector(l0)\n",
    "    \n",
    "    vertices_0 = [\n",
    "        np.array([x0, y0]) + 0.15 * h0 + 0.275 * l0,  # 顶点 a1_0\n",
    "        np.array([x0, y0]) + 0.15 * h0 - 3.135 * l0,  # 顶点 a2_0\n",
    "        np.array([x0, y0]) - 0.15 * h0 + 0.275 * l0,  # 顶点 a3_0\n",
    "        np.array([x0, y0]) - 0.15 * h0 - 3.135 * l0,  # 顶点 a4_0\n",
    "    ]\n",
    "    return vertices_0, l0, h0"
   ]
  },
  {
   "cell_type": "markdown",
   "metadata": {},
   "source": [
    "#### 计算当前点的四个顶点坐标"
   ]
  },
  {
   "cell_type": "code",
   "execution_count": 1080,
   "metadata": {},
   "outputs": [],
   "source": [
    "def compute_body_vertices(θ,θ1):\n",
    "    \"\"\"\n",
    "    计算当前龙身的四个顶点坐标\n",
    "    输入:\n",
    "        θ - 当前的龙身的前把手的位置\n",
    "        θ1 - 后一个龙身的前把手的位置\n",
    "    输出:\n",
    "        vertices_n - 当前时间点的四个顶点坐标列表\n",
    "        l_n - 当前向量\n",
    "        h_n - 当前垂直单位向量\n",
    "    \"\"\"\n",
    "\n",
    "    # 计算当前龙身位置的极径\n",
    "    r = compute_radius(θ)\n",
    "\n",
    "    # 计算当前龙身的坐标\n",
    "    x_n = r * np.cos(θ)\n",
    "    y_n = r * np.sin(θ)\n",
    "\n",
    "    # 计算垂直于 龙头的方向向量, θ 为龙头的前把手的位置，θ1 为第一块龙身的前把手的位置\n",
    "    \n",
    "    l_n_x, l_n_y= compute_bench_direction_vector(θ, θ1)\n",
    "    l_n = np.array(compute_unit_vector(l_n_x, l_n_y))\n",
    "\n",
    "    # 计算垂直于 l0 的单位向量 h0\n",
    "    h_n = compute_perpendicular_unit_vector(l_n)\n",
    "    \n",
    "    # 四个顶点的坐标列表\n",
    "    vertices_n = [\n",
    "        np.array([x_n, y_n]) + 0.15 * h_n + 0.275 * l_n,  # 顶点 a1_n\n",
    "        np.array([x_n, y_n]) + 0.15 * h_n - 1.925 * l_n,  # 顶点 a2_n\n",
    "        np.array([x_n, y_n]) - 0.15 * h_n + 0.275 * l_n,  # 顶点 a3_n\n",
    "        np.array([x_n, y_n]) - 0.15 * h_n - 1.925 * l_n,  # 顶点 a4_n\n",
    "    ]\n",
    "    return vertices_n, l_n, h_n"
   ]
  },
  {
   "cell_type": "markdown",
   "metadata": {},
   "source": [
    "### 实现分离轴定理 SAT"
   ]
  },
  {
   "cell_type": "code",
   "execution_count": 1081,
   "metadata": {},
   "outputs": [],
   "source": [
    "def projection_interval(vertices, axis):\n",
    "    \"\"\"\n",
    "    计算给定轴上的投影区间。\n",
    "\n",
    "    参数:\n",
    "        vertices (list of np.array): 顶点坐标列表。每个顶点是一个 numpy 数组。\n",
    "        axis (np.array): 投影轴，是一个 numpy 数组。\n",
    "\n",
    "    返回:\n",
    "        tuple: 投影区间 (最小值, 最大值)。\n",
    "    \"\"\"\n",
    "    # 计算每个顶点在投影轴上的投影\n",
    "    projections = [np.dot(vertex, axis) for vertex in vertices]\n",
    "    \n",
    "    # 计算投影的最小值和最大值\n",
    "    min_projection = min(projections)\n",
    "    max_projection = max(projections)\n",
    "    \n",
    "    return min_projection, max_projection\n",
    "\n",
    "def rectangles_intersect(vertices1, vertices2):\n",
    "    \"\"\"\n",
    "    使用分离轴定理检查两个矩形是否相交。\n",
    "    参数:\n",
    "        vertices1 (list of np.array): 第一个矩形的顶点坐标列表。\n",
    "        vertices2 (list of np.array): 第二个矩形的顶点坐标列表。\n",
    "    返回:\n",
    "        bool: 如果两个矩形相交，则返回 True,否则返回 False。\n",
    "    \"\"\"\n",
    "    # print(f\"测试 矩阵1: {vertices1} 和 \\n 矩阵2: {vertices2}\")\n",
    "    # 获取矩形的两条边（注意：矩形的边是相邻顶点之差）\n",
    "    edges1 = [vertices1[i] - vertices1[(i + 1) % len(vertices1)] for i in range(2)]  # 只需要前两条边\n",
    "    edges2 = [vertices2[i] - vertices2[(i + 1) % len(vertices2)] for i in range(2)]\n",
    "\n",
    "    # 计算所有边的法线向量作为分离轴\n",
    "    axes = [compute_perpendicular_unit_vector(edge) for edge in edges1 + edges2]\n",
    "\n",
    "    # 对每个分离轴进行投影并检查是否有重叠\n",
    "    for axis in axes:\n",
    "        min1, max1 = projection_interval(vertices1, axis)\n",
    "        min2, max2 = projection_interval(vertices2, axis)\n",
    "        if max1 < min2 or max2 < min1:\n",
    "            return False  # 没有相交\n",
    "\n",
    "    return True  # 相交"
   ]
  },
  {
   "cell_type": "markdown",
   "metadata": {},
   "source": [
    "## 分离轴定理 计算是否发生碰撞\n",
    "只考虑前13个板子（包括龙头）"
   ]
  },
  {
   "cell_type": "markdown",
   "metadata": {},
   "source": [
    "### 待使用的变量"
   ]
  },
  {
   "cell_type": "code",
   "execution_count": 1082,
   "metadata": {},
   "outputs": [
    {
     "data": {
      "text/plain": [
       "array([[ 0.00000000e+00,  3.26054808e-01,  5.13260886e-01, ...,\n",
       "         3.67751728e+01,  3.69236240e+01,  3.70719503e+01],\n",
       "       [-1.57785032e-01,  1.68641444e-01,  3.56058860e-01, ...,\n",
       "         3.66504040e+01,  3.67989605e+01,  3.69473917e+01],\n",
       "       [-3.15818466e-01,  1.09811165e-02,  1.98610680e-01, ...,\n",
       "         3.65254920e+01,  3.66741541e+01,  3.68226906e+01],\n",
       "       ...,\n",
       "       [-7.48235809e+01, -7.41114703e+01, -7.37099890e+01, ...,\n",
       "        -1.37150388e+01, -1.35068952e+01, -1.32990961e+01],\n",
       "       [-7.54472470e+01, -7.47279709e+01, -7.43226395e+01, ...,\n",
       "        -1.40328087e+01, -1.38241368e+01, -1.36158122e+01],\n",
       "       [-7.60867942e+01, -7.53600159e+01, -7.49506597e+01, ...,\n",
       "        -1.43562508e+01, -1.41470385e+01, -1.39381761e+01]])"
      ]
     },
     "execution_count": 1082,
     "metadata": {},
     "output_type": "execute_result"
    }
   ],
   "source": [
    "theta_values_of_each_time # 每个时间点所有点的 theta 值，龙头序号为 0，龙尾后把手序号为 223，(301, 224)"
   ]
  },
  {
   "cell_type": "markdown",
   "metadata": {},
   "source": [
    "### 计算前13个点前1000秒的位置坐标"
   ]
  },
  {
   "cell_type": "code",
   "execution_count": 1083,
   "metadata": {},
   "outputs": [
    {
     "name": "stdout",
     "output_type": "stream",
     "text": [
      "需要计算n=74个点\n",
      "132.99182261140473\n"
     ]
    }
   ],
   "source": [
    "# 设定p的值\n",
    "global p \n",
    "p = 1.7\n",
    "\n",
    "\n",
    "# 计算需要判断 n 个点，是否发生碰撞\n",
    "n = np.ceil( ( 4.45 + 3 * p ) * 2 * np.pi / 1.65 )\n",
    "n =2* int(n) # 整数化n\n",
    "print(f\"需要计算n={n}个点\") \n",
    "\n",
    "# 计算临界时间\n",
    "def Cut_off_point(p,x):\n",
    "    Cut_off_point = ( p / (2 * np.pi) * (f(9 * np.pi / p + 6* np.pi) - f( x + 9 * np.pi / p + 6 * np.pi)) )\n",
    "    return Cut_off_point\n",
    "\n",
    "# 用以调整碰撞的临界时间 g(-6π)\n",
    "cut_off_point = Cut_off_point(p,-6*np.pi)\n",
    "print(cut_off_point)"
   ]
  },
  {
   "cell_type": "code",
   "execution_count": 1084,
   "metadata": {},
   "outputs": [
    {
     "name": "stderr",
     "output_type": "stream",
     "text": [
      "d:\\conda_envs\\ISLP\\lib\\site-packages\\scipy\\optimize\\_minpack_py.py:177: RuntimeWarning: The iteration is not making good progress, as measured by the \n",
      "  improvement from the last ten iterations.\n",
      "  warnings.warn(msg, RuntimeWarning)\n",
      "d:\\conda_envs\\ISLP\\lib\\site-packages\\scipy\\optimize\\_minpack_py.py:177: RuntimeWarning: The iteration is not making good progress, as measured by the \n",
      "  improvement from the last five Jacobian evaluations.\n",
      "  warnings.warn(msg, RuntimeWarning)\n"
     ]
    },
    {
     "name": "stdout",
     "output_type": "stream",
     "text": [
      "CSV文件已成功保存！\n"
     ]
    }
   ],
   "source": [
    "# 计算龙头的所有坐标\n",
    "\n",
    "# 初始化时间数组\n",
    "time_array = np.arange(1000)  # 从 0 到 t 的整数数组\n",
    "\n",
    "# 计算每个时间点的角度值（弧度制）\n",
    "theta_head_value_2 = np.array([solve_θ_of_dragonhead(t) for t in time_array])\n",
    "\n",
    "# 计算每个时间点的龙头坐标\n",
    "length_of_dragon_head = 2.86 # 龙头的长度 286cm=2.86m\n",
    "distance_of_dragon_body= 1.65 # 龙身上两个孔的距离 165cm=1.65m\n",
    "\n",
    "# 创建二维数组来存储每个时间点的所有龙身的 θ 值\n",
    "theta_body_values_of_each_time_2 = np.empty((1000, n))  # 301 行，222 列；301个时间点，221个龙身，1个龙尾\n",
    "\n",
    "# 计算每个时间点的所有龙身的 θ 值\n",
    "for t in range(1000):\n",
    "    temp =  theta_head_value_2[t] # 当前时间内点的龙头对应的θ值\n",
    "    for i in range(n):\n",
    "        if i == 0:\n",
    "            theta_body_values_of_each_time_2[t, i] = compute_theta_next(temp, length_of_dragon_head) # 当前时间点的龙身每个点的θ值\n",
    "            temp = theta_body_values_of_each_time_2[t, i] # 更新当前时间点的龙身对应的θ值\n",
    "        else:\n",
    "            theta_body_values_of_each_time_2[t, i] = compute_theta_next(temp, distance_of_dragon_body) # 当前时间点的龙身每个点的θ值\n",
    "            temp = theta_body_values_of_each_time_2[t, i] # 更新当前时间点的龙身对应的θ值\n",
    "\n",
    "\n",
    "# 将所有时刻的所有点的位置信息存储到同一变量中，301行，13列，第一列为龙头，其余为龙身\n",
    "theta_values_of_each_time_2 = np.hstack((theta_head_value_2.reshape(-1, 1), theta_body_values_of_each_time_2))\n",
    "\n",
    "# 创建DataFrame并添加列名\n",
    "columns = ['Head'] + [f'Body_{i+1}' for i in range(n)]\n",
    "df = pd.DataFrame(theta_values_of_each_time_2, columns=columns)\n",
    "\n",
    "# 保存为CSV文件\n",
    "df.to_csv('./Q3/theta_values_of_each_time_Q3.csv', index=False)\n",
    "\n",
    "print(\"CSV文件已成功保存！\")"
   ]
  },
  {
   "cell_type": "markdown",
   "metadata": {},
   "source": [
    "### 情况一：龙头撞龙身"
   ]
  },
  {
   "cell_type": "code",
   "execution_count": 1085,
   "metadata": {},
   "outputs": [
    {
     "name": "stdout",
     "output_type": "stream",
     "text": [
      "碰撞发生，t = 702, 龙头与 块编号为 2 发生碰撞,p=1.7\n"
     ]
    }
   ],
   "source": [
    "t=-1 # 从 t，每一轮结束，t=t+1，直到发生碰撞，弹出循环，返回发生碰撞时的t的值\n",
    "\n",
    "while True:\n",
    "    t = t + 1 # 每一轮结束，t=t+1\n",
    "\n",
    "    # 计算得到当前时刻的各块的的位置所对应的 θ 值\n",
    "    \n",
    "    # 计算得到龙头的相关参数\n",
    "    θ_0 = theta_values_of_each_time_2[t,0] # 龙头的位置所对应的 theta 值\n",
    "    θ_1 = theta_values_of_each_time_2[t,1] # 龙头下一个位置（即第一块龙身）所对应的 theta 值\n",
    "\n",
    "    # 计算得到的四个顶点坐标 和 龙头的方向向量 和 与龙头的方向向量垂直的单位向量 h_0\n",
    "    vertices_0, l_0, h_0 = compute_head_vertices(θ_0, θ_1)\n",
    "\n",
    "    for i in range(2, n): # 遍历前12个龙身(加上龙头，共13个)，排除相邻的块\n",
    "        θ_n = theta_values_of_each_time_2[t,i] # 第 i 块龙身所对应的 theta 值\n",
    "        θ_n1 = theta_values_of_each_time_2[t,i+1] # 第 i+1 块龙身所对应的 theta 值\n",
    "\n",
    "        # 计算得到的四个顶点坐标 和 龙身的方向向量 和 与龙身方向向量垂直的单位向量 h_n\n",
    "        vertices_n, l_n, h_n = compute_body_vertices(θ_n, θ_n1)\n",
    "\n",
    "        # 判断是否发生碰撞\n",
    "        if rectangles_intersect(vertices_0, vertices_n):\n",
    "            print(f\"碰撞发生，t = {t}, 龙头与 块编号为 {i} 发生碰撞,p={p}\" )\n",
    "            \n",
    "            break  # 发生碰撞时跳出 for 循环并终止 while 循环\n",
    "    else:\n",
    "        # 如果没有碰撞，继续下一个时间点\n",
    "        continue\n",
    "    \n",
    "    # 跳出 while 循环\n",
    "    break\n"
   ]
  },
  {
   "cell_type": "markdown",
   "metadata": {},
   "source": [
    "### 情况二：龙身撞龙身"
   ]
  },
  {
   "cell_type": "code",
   "execution_count": 1086,
   "metadata": {},
   "outputs": [
    {
     "name": "stdout",
     "output_type": "stream",
     "text": [
      "碰撞发生，t = 0, 块编号: 1 和 3,p=1.7\n",
      "碰撞发生，t = 0, 块编号: 1 和 4,p=1.7\n",
      "碰撞发生，t = 0, 块编号: 1 和 5,p=1.7\n",
      "碰撞发生，t = 0, 块编号: 1 和 6,p=1.7\n",
      "碰撞发生，t = 0, 块编号: 1 和 7,p=1.7\n",
      "碰撞发生，t = 0, 块编号: 1 和 8,p=1.7\n",
      "碰撞发生，t = 0, 块编号: 1 和 9,p=1.7\n",
      "碰撞发生，t = 0, 块编号: 1 和 10,p=1.7\n",
      "碰撞发生，t = 0, 块编号: 1 和 11,p=1.7\n",
      "碰撞发生，t = 0, 块编号: 1 和 12,p=1.7\n",
      "碰撞发生，t = 0, 块编号: 1 和 13,p=1.7\n",
      "碰撞发生，t = 0, 块编号: 1 和 14,p=1.7\n",
      "碰撞发生，t = 0, 块编号: 1 和 15,p=1.7\n",
      "碰撞发生，t = 0, 块编号: 1 和 16,p=1.7\n",
      "碰撞发生，t = 0, 块编号: 1 和 17,p=1.7\n",
      "碰撞发生，t = 0, 块编号: 1 和 18,p=1.7\n",
      "碰撞发生，t = 0, 块编号: 1 和 19,p=1.7\n",
      "碰撞发生，t = 0, 块编号: 1 和 20,p=1.7\n",
      "碰撞发生，t = 0, 块编号: 1 和 21,p=1.7\n",
      "碰撞发生，t = 0, 块编号: 1 和 22,p=1.7\n",
      "碰撞发生，t = 0, 块编号: 1 和 23,p=1.7\n",
      "碰撞发生，t = 0, 块编号: 1 和 24,p=1.7\n",
      "碰撞发生，t = 0, 块编号: 1 和 25,p=1.7\n",
      "碰撞发生，t = 0, 块编号: 1 和 26,p=1.7\n",
      "碰撞发生，t = 0, 块编号: 1 和 27,p=1.7\n",
      "碰撞发生，t = 0, 块编号: 1 和 28,p=1.7\n",
      "碰撞发生，t = 0, 块编号: 1 和 29,p=1.7\n",
      "碰撞发生，t = 0, 块编号: 1 和 30,p=1.7\n",
      "碰撞发生，t = 0, 块编号: 1 和 31,p=1.7\n",
      "碰撞发生，t = 0, 块编号: 1 和 32,p=1.7\n",
      "碰撞发生，t = 0, 块编号: 1 和 33,p=1.7\n",
      "碰撞发生，t = 0, 块编号: 1 和 34,p=1.7\n",
      "碰撞发生，t = 0, 块编号: 1 和 35,p=1.7\n",
      "碰撞发生，t = 0, 块编号: 1 和 36,p=1.7\n",
      "碰撞发生，t = 0, 块编号: 1 和 37,p=1.7\n",
      "碰撞发生，t = 0, 块编号: 1 和 38,p=1.7\n",
      "碰撞发生，t = 0, 块编号: 1 和 39,p=1.7\n",
      "碰撞发生，t = 0, 块编号: 1 和 40,p=1.7\n",
      "碰撞发生，t = 0, 块编号: 1 和 41,p=1.7\n",
      "碰撞发生，t = 0, 块编号: 1 和 42,p=1.7\n",
      "碰撞发生，t = 0, 块编号: 1 和 43,p=1.7\n",
      "碰撞发生，t = 0, 块编号: 1 和 44,p=1.7\n",
      "碰撞发生，t = 0, 块编号: 1 和 45,p=1.7\n",
      "碰撞发生，t = 0, 块编号: 1 和 46,p=1.7\n",
      "碰撞发生，t = 0, 块编号: 1 和 47,p=1.7\n",
      "碰撞发生，t = 0, 块编号: 1 和 48,p=1.7\n",
      "碰撞发生，t = 0, 块编号: 1 和 49,p=1.7\n",
      "碰撞发生，t = 0, 块编号: 1 和 50,p=1.7\n",
      "碰撞发生，t = 0, 块编号: 1 和 51,p=1.7\n",
      "碰撞发生，t = 0, 块编号: 1 和 52,p=1.7\n",
      "碰撞发生，t = 0, 块编号: 1 和 53,p=1.7\n",
      "碰撞发生，t = 0, 块编号: 1 和 54,p=1.7\n",
      "碰撞发生，t = 0, 块编号: 1 和 55,p=1.7\n",
      "碰撞发生，t = 0, 块编号: 1 和 56,p=1.7\n",
      "碰撞发生，t = 0, 块编号: 1 和 57,p=1.7\n",
      "碰撞发生，t = 0, 块编号: 1 和 58,p=1.7\n",
      "碰撞发生，t = 0, 块编号: 1 和 59,p=1.7\n",
      "碰撞发生，t = 0, 块编号: 1 和 60,p=1.7\n",
      "碰撞发生，t = 0, 块编号: 1 和 61,p=1.7\n",
      "碰撞发生，t = 0, 块编号: 1 和 62,p=1.7\n",
      "碰撞发生，t = 0, 块编号: 1 和 63,p=1.7\n",
      "碰撞发生，t = 0, 块编号: 1 和 64,p=1.7\n",
      "碰撞发生，t = 0, 块编号: 1 和 65,p=1.7\n",
      "碰撞发生，t = 0, 块编号: 1 和 66,p=1.7\n",
      "碰撞发生，t = 0, 块编号: 1 和 67,p=1.7\n",
      "碰撞发生，t = 0, 块编号: 1 和 68,p=1.7\n",
      "碰撞发生，t = 0, 块编号: 1 和 69,p=1.7\n",
      "碰撞发生，t = 0, 块编号: 1 和 70,p=1.7\n",
      "碰撞发生，t = 0, 块编号: 1 和 71,p=1.7\n",
      "碰撞发生，t = 0, 块编号: 1 和 72,p=1.7\n",
      "碰撞发生，t = 0, 块编号: 1 和 73,p=1.7\n"
     ]
    }
   ],
   "source": [
    "t=-1 # 从 t=300s 开始，每一轮结束，t=t+1，直到发生碰撞，弹出循环，返回发生碰撞时的t的值\n",
    "flag = 0 # 初始化标志位\n",
    "while True:\n",
    "    t = t + 1 # 每一轮结束，t=t+1\n",
    "\n",
    "    for i in range(1, n): # 遍历前12个龙身(加上龙头，共13个)，排除相邻的块\n",
    "        θ_i = theta_values_of_each_time_2[t,i] # 第 i 块龙身所对应的 theta 值\n",
    "        θ_i1 = theta_values_of_each_time_2[t,i+1] # 第 i+1 块龙身所对应的 theta 值\n",
    "\n",
    "        # 计算得到的四个顶点坐标 和 龙身的方向向量 和 与龙身方向向量垂直的单位向量 h_n\n",
    "        vertices_i, l_i, h_i = compute_body_vertices(θ_n, θ_n1)\n",
    "\n",
    "        for j in range(i+2, n): # 遍历前12个龙身(加上龙头，共13个)，排除相邻的块\n",
    "            # 如果j >=13，则跳出循环,到达边界\n",
    "            if j >=n:\n",
    "                break\n",
    "            θ_j = theta_values_of_each_time_2[t,j] # 第 i 块龙身所对应的 theta 值\n",
    "            θ_j1 = theta_values_of_each_time_2[t,j+1] # 第 i+1 块龙身所对应的 theta 值\n",
    "\n",
    "            # 计算得到的四个顶点坐标 和 龙身的方向向量 和 与龙身方向向量垂直的单位向量 h_n\n",
    "            vertices_j, l_j, h_j = compute_body_vertices(θ_j, θ_j1)\n",
    "\n",
    "            # 判断是否发生碰撞\n",
    "            if rectangles_intersect(vertices_i, vertices_j):\n",
    "                print(f\"碰撞发生，t = {t}, 块编号: {i} 和 {j},p={p}\")\n",
    "                flag = 1    # 标志位设为1，表示发生碰撞\n",
    "        \n",
    "        if flag == 1: # 如果发生碰撞，跳出 for 循环\n",
    "            break\n",
    "\n",
    "    if flag == 1: # 如果发生碰撞，跳出 while 循环\n",
    "        break\n",
    "\n"
   ]
  },
  {
   "cell_type": "markdown",
   "metadata": {},
   "source": [
    "### 计算并导出碰撞前一刻舞龙队的位置和速度\n",
    "计算得出，当舞龙队发生碰撞时间为`402s`，`第1块`龙身和`第5块`龙身发生碰撞。\n",
    "故，为使舞龙队不发生碰撞，应在`402s`时停止盘入，下面导出此时舞龙队的位置和速度。"
   ]
  },
  {
   "cell_type": "markdown",
   "metadata": {},
   "source": [
    "#### 位置信息"
   ]
  },
  {
   "cell_type": "markdown",
   "metadata": {},
   "source": [
    "计算出 `t=402s` 时，舞龙队的位置信息，用 $\\theta$ 表示"
   ]
  },
  {
   "cell_type": "code",
   "execution_count": 1087,
   "metadata": {},
   "outputs": [],
   "source": [
    "# 402s时的龙头前把手位置\n",
    "θ0_402 = theta_values_of_each_time_2[402,0] # 龙头所对应的 theta 值\n",
    "\n",
    "# 板凳龙的基本参数\n",
    "length_of_dragon_head = 2.86 # 龙头的长度 286cm=2.86m\n",
    "distance_of_dragon_body= 1.65 # 龙身上两个孔的距离 165cm=1.65m\n",
    "\n",
    "# 创建列表存储该时间点的所有龙身的 θ 值\n",
    "theta_body_values_of_402 = np.empty(223)  # 222 个龙身，1个龙尾后把手\n",
    "\n",
    "# 计算得到此时所有龙身的 θ 值\n",
    "temp = θ0_402\n",
    "for i in range(223):\n",
    "    \n",
    "    if i == 0:\n",
    "        theta_body_values_of_402[i] = compute_theta_next(temp, length_of_dragon_head) # 当前时间点的龙身每个点的θ值\n",
    "        temp = theta_body_values_of_402[i] # 更新当前时间点的龙身对应的θ值\n",
    "    else:\n",
    "        theta_body_values_of_402[i] = compute_theta_next(temp, distance_of_dragon_body) # 当前时间点的龙身每个点的θ值\n",
    "        temp = theta_body_values_of_402[i] # 更新当前时间点的龙身对应的θ值\n",
    "\n",
    "# 合并在 t=402s 时，龙头和龙尾的位置信息\n",
    "theta_values_of_402 =  np.hstack((θ0_402, theta_body_values_of_402))\n"
   ]
  },
  {
   "cell_type": "markdown",
   "metadata": {},
   "source": [
    "将极坐标转换为直角坐标"
   ]
  },
  {
   "cell_type": "code",
   "execution_count": 1088,
   "metadata": {},
   "outputs": [
    {
     "name": "stdout",
     "output_type": "stream",
     "text": [
      "Length of labels: 448, Length of values: 448\n",
      "        Type     Value\n",
      "0  Point_0_x -4.178665\n",
      "1  Point_0_y  1.542624\n",
      "2  Point_1_x -4.439416\n",
      "3  Point_1_y -1.305465\n",
      "4  Point_2_x -3.787931\n"
     ]
    }
   ],
   "source": [
    "# 计算每个点的 r 值\n",
    "r_values = np.vectorize(compute_radius)(theta_values_of_402)\n",
    "\n",
    "# 计算所有点的 x 和 y 坐标\n",
    "x_values = r_values * np.cos(theta_values_of_402)\n",
    "y_values = r_values * np.sin(theta_values_of_402)\n",
    "\n",
    "\n",
    "# 初始化坐标类型标签和对应的数据列表\n",
    "labels = []\n",
    "values = []\n",
    "\n",
    "# 填充标签和数据，交替放入 x 和 y 值\n",
    "for i in range(0, 224):  # i 从 1 到 224\n",
    "    labels.append(f\"Point_{i}_x\")  # 添加 x 标签\n",
    "    labels.append(f\"Point_{i}_y\")  # 添加 y 标签\n",
    "    values.append(x_values[i])  # 添加对应的 x 值\n",
    "    values.append(y_values[i])  # 添加对应的 y 值\n",
    "\n",
    "labels = np.array(labels).flatten()\n",
    "\n",
    "# 确保 labels 和 values 都是一维列表，且长度匹配\n",
    "# labels = np.array(labels)  # 转换为一维数组\n",
    "# values = np.array(values)  # 转换为一维数组\n",
    "\n",
    "# 确保 labels 和 values 长度相同\n",
    "print(f\"Length of labels: {len(labels)}, Length of values: {len(values)}\")\n",
    "\n",
    "# 创建 DataFrame\n",
    "df_coordinates = pd.DataFrame({\n",
    "    \"Type\": labels,          # 第一列为坐标类型\n",
    "    \"Value\": values        # 第二列为对应的 x 或 y 数据\n",
    "})\n",
    "\n",
    "# 保存到 CSV 文件\n",
    "df_coordinates.to_csv('./Q2/dragon_coordinates_Q2.csv', index=False)\n",
    "\n",
    "print(df_coordinates.head())  # 打印前几行查看结果\n",
    "\n"
   ]
  },
  {
   "cell_type": "markdown",
   "metadata": {},
   "source": [
    "#### 速度"
   ]
  },
  {
   "cell_type": "code",
   "execution_count": 1089,
   "metadata": {},
   "outputs": [],
   "source": [
    "# 建立一个空的数组来存储每个时间点龙身每个点的速度\n",
    "velocity_body_values_of_each_time = np.empty((301, 224))  # 301 行，223 列；301个时间点，一个龙头，221个龙身，1个龙尾，最后一列为龙尾后把手\n",
    "\n",
    "for t in range(301):\n",
    "    temp = speed_of_head # 计算当前时间点的龙头速度大小\n",
    "    velocity_body_values_of_each_time[t, 0] = temp # u0 存放龙头的速度大小\n",
    "    for i in range(0,223):\n",
    "        velocity_body_values_of_each_time[t, i+1] = compute_velocity_next(theta_values_of_each_time[t,i], theta_values_of_each_time[t,i+1], temp)\n",
    "        temp = velocity_body_values_of_each_time[t, i+1]"
   ]
  },
  {
   "cell_type": "code",
   "execution_count": 1090,
   "metadata": {},
   "outputs": [
    {
     "name": "stdout",
     "output_type": "stream",
     "text": [
      "CSV 文件已成功保存！\n"
     ]
    }
   ],
   "source": [
    "#  speed_of_head 表示每个时刻的龙头的速度大小\n",
    "speed_of_head= 1\n",
    "\n",
    "# 建立一个空的数组来存储312s每个点的速度\n",
    "velocity_values_of_402 = np.empty(224)  # ，224 列；1个龙头，221个龙身，1个龙尾，最后一列为龙尾后把手\n",
    "\n",
    "temp = speed_of_head\n",
    "velocity_values_of_402[0] = temp\n",
    "for i in range(0,223):\n",
    "    velocity_values_of_402[i+1] = compute_velocity_next(theta_values_of_402[i], theta_values_of_402[i+1], temp)\n",
    "    temp = velocity_values_of_402[i+1]\n",
    "\n",
    "# 创建点的编号（从 0 开始到 223），共 224 个点\n",
    "points = np.arange(224)\n",
    "\n",
    "# 创建 DataFrame，将点编号和速度数据存储为两列\n",
    "df_velocity = pd.DataFrame({\n",
    "    \"Point\": points,  # 第一列为点的编号，范围从 0 到 223\n",
    "    \"Velocity\": velocity_values_of_402  # 第二列为对应的速度值\n",
    "})\n",
    "\n",
    "# 保存 DataFrame 到 CSV 文件\n",
    "df_velocity.to_csv('./Q2/dragon_velocity_values_Q2.csv', index=False)\n",
    "\n",
    "print(\"CSV 文件已成功保存！\")"
   ]
  }
 ],
 "metadata": {
  "kernelspec": {
   "display_name": "ISLP",
   "language": "python",
   "name": "python3"
  },
  "language_info": {
   "codemirror_mode": {
    "name": "ipython",
    "version": 3
   },
   "file_extension": ".py",
   "mimetype": "text/x-python",
   "name": "python",
   "nbconvert_exporter": "python",
   "pygments_lexer": "ipython3",
   "version": "3.9.19"
  }
 },
 "nbformat": 4,
 "nbformat_minor": 2
}
